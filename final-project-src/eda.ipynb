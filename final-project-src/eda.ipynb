{
 "cells": [
  {
   "cell_type": "code",
   "execution_count": 72,
   "id": "60ccf486",
   "metadata": {},
   "outputs": [
    {
     "name": "stdout",
     "output_type": "stream",
     "text": [
      "(13749, 164)\n",
      "['F_METRO', 'F_CREGION', 'F_CDIVISION', 'F_AGECAT', 'F_GENDER', 'F_EDUCCAT', 'F_EDUCCAT5', 'F_HISP', 'F_YEARSINUS', 'F_RACECMB', 'F_RACETHNMOD', 'F_CITIZEN', 'F_BIRTHPLACE', 'F_RELIG', 'F_BORN', 'F_RELIGCAT1', 'F_ATTEND', 'F_PARTY_FINAL', 'F_PARTYLN_FINAL', 'F_PARTYSUM_FINAL', 'F_PARTYSUMIDEO_FINAL', 'F_INC_SDT1', 'F_REG', 'F_IDEO', 'F_INTFREQ', 'F_VOLSUM', 'F_INC_TIER2', 'F_GENERATIONS']\n",
      "(13749, 159)\n",
      "['F_METRO', 'F_CREGION', 'F_CDIVISION', 'F_AGECAT', 'F_GENDER', 'F_EDUCCAT', 'F_EDUCCAT5', 'F_HISP', 'F_YEARSINUS', 'F_RACECMB', 'F_RACETHNMOD', 'F_CITIZEN', 'F_BIRTHPLACE', 'F_RELIG', 'F_BORN', 'F_RELIGCAT1', 'F_ATTEND', 'F_PARTY_FINAL', 'F_PARTYLN_FINAL', 'F_PARTYSUM_FINAL', 'F_PARTYSUMIDEO_FINAL', 'F_INC_SDT1', 'F_REG', 'F_IDEO', 'F_INTFREQ', 'F_VOLSUM', 'F_INC_TIER2', 'F_GENERATIONS', 'CLIMSEEK_W89', 'FOLCLIM_W89', 'ENGACTCT_W89']\n",
      "Index(['F_METRO', 'F_CREGION', 'F_CDIVISION', 'F_AGECAT', 'F_GENDER',\n",
      "       'F_EDUCCAT', 'F_EDUCCAT5', 'F_HISP', 'F_YEARSINUS', 'F_RACECMB',\n",
      "       'F_RACETHNMOD', 'F_CITIZEN', 'F_BIRTHPLACE', 'F_RELIG', 'F_BORN',\n",
      "       'F_RELIGCAT1', 'F_ATTEND', 'F_PARTY_FINAL', 'F_PARTYLN_FINAL',\n",
      "       'F_PARTYSUM_FINAL', 'F_PARTYSUMIDEO_FINAL', 'F_INC_SDT1', 'F_REG',\n",
      "       'F_IDEO', 'F_INTFREQ', 'F_VOLSUM', 'F_INC_TIER2', 'F_GENERATIONS',\n",
      "       'CLIMSEEK_W89', 'FOLCLIM_W89', 'ENGACTCT_W89'],\n",
      "      dtype='object')\n",
      "(13749, 31)\n"
     ]
    }
   ],
   "source": [
    "import pyreadstat\n",
    "import pandas as pd\n",
    "\n",
    "file_path = \"ATP W89.sav\"\n",
    "df, meta = pyreadstat.read_sav(file_path)\n",
    "print(df.shape) # 164 columns\n",
    "\n",
    "# drop clearly irrelevant\n",
    "# only need columns with personal/demographic data, useful social media habits, target\n",
    "# drop other survey response columns\n",
    "\n",
    "\n",
    "# print(df.columns)\n",
    "df = df.drop(columns=[\"QKEY\"])\n",
    "interview_data = [x for x in df.columns if (\"INTERVIEW\" in x or \"DEVICE\" in x or \"FORM\" in x)] # asked ChatGPT for example subsetting list based on element values\n",
    "df = df.drop(columns=interview_data)\n",
    "\n",
    "# our target: how engaged individuals were\n",
    "target = \"ENGACTCT_W89\"\n",
    "# 2 features about social media habits selected from examining meaning in questionnaire/their metadata labels\n",
    "sm_features = [\"CLIMSEEK_W89\",\"FOLCLIM_W89\"]\n",
    "\n",
    "# no longer need other questionnaire data, only using ENGACTCT to measure engagement, two social media habit cols relevant, personal data\n",
    "personal_data = [x for x in df.columns if (\"W89\" not in x)]\n",
    "print(personal_data)\n",
    "\n",
    "print(df.shape)\n",
    "keep_columns = personal_data + sm_features + [target]\n",
    "print(keep_columns)\n",
    "df = df.loc[:,keep_columns]\n",
    "print(df.columns)\n",
    "print(df.shape)\n",
    "\n",
    "# using PCA to determine PCs, most used features in those PCs, dropping others\n",
    "# need at least 100 instances, drop those where don't have value for any of selected features\n",
    "# for i in range(8):\n",
    "#     print(df[columns[i]].value_counts())\n",
    "#     print(meta.variable_value_labels.get(columns[i]))\n",
    "\n",
    "\n",
    "# print(interview_data)\n",
    "\n",
    "# print(columns)\n",
    "# print(df[\"ENGACTCT_W89\"].value_counts())\n",
    "# print(meta.variable_value_labels.get(\"ENGACTCT_W89\"))"
   ]
  }
 ],
 "metadata": {
  "kernelspec": {
   "display_name": "Python (.venv)",
   "language": "python",
   "name": ".venv"
  },
  "language_info": {
   "codemirror_mode": {
    "name": "ipython",
    "version": 3
   },
   "file_extension": ".py",
   "mimetype": "text/x-python",
   "name": "python",
   "nbconvert_exporter": "python",
   "pygments_lexer": "ipython3",
   "version": "3.12.0"
  }
 },
 "nbformat": 4,
 "nbformat_minor": 5
}
